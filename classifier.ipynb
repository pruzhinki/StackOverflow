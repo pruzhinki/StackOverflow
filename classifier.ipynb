{
 "cells": [
  {
   "cell_type": "code",
   "execution_count": 1,
   "metadata": {},
   "outputs": [],
   "source": [
    "import pandas as pd\n",
    "import matplotlib.pyplot as plt\n",
    "import seaborn as sns\n",
    "import re\n",
    "import string\n",
    "from bs4 import BeautifulSoup\n",
    "from nltk.tokenize import word_tokenize\n",
    "from nltk.corpus import stopwords\n",
    "from collections import Counter\n",
    "from sklearn.feature_extraction.text import TfidfVectorizer\n",
    "from sklearn.preprocessing import MultiLabelBinarizer\n",
    "from sklearn.linear_model import LogisticRegression, SGDClassifier\n",
    "from sklearn.svm import LinearSVC\n",
    "from sklearn.multiclass import OneVsRestClassifier\n",
    "from sklearn.metrics import accuracy_score, f1_score, hamming_loss, classification_report\n",
    "from sklearn.model_selection import train_test_split"
   ]
  },
  {
   "attachments": {},
   "cell_type": "markdown",
   "metadata": {},
   "source": [
    "## Data Preprocessing"
   ]
  },
  {
   "cell_type": "code",
   "execution_count": 2,
   "metadata": {},
   "outputs": [],
   "source": [
    "questions = pd.read_csv(\"./questions.csv\", encoding=\"ISO-8859-1\")\n",
    "tags = pd.read_csv(\"./tags.csv\", encoding=\"ISO-8859-1\")"
   ]
  },
  {
   "cell_type": "code",
   "execution_count": 3,
   "metadata": {},
   "outputs": [
    {
     "data": {
      "text/html": [
       "<div>\n",
       "<style scoped>\n",
       "    .dataframe tbody tr th:only-of-type {\n",
       "        vertical-align: middle;\n",
       "    }\n",
       "\n",
       "    .dataframe tbody tr th {\n",
       "        vertical-align: top;\n",
       "    }\n",
       "\n",
       "    .dataframe thead th {\n",
       "        text-align: right;\n",
       "    }\n",
       "</style>\n",
       "<table border=\"1\" class=\"dataframe\">\n",
       "  <thead>\n",
       "    <tr style=\"text-align: right;\">\n",
       "      <th></th>\n",
       "      <th>Id</th>\n",
       "      <th>OwnerUserId</th>\n",
       "      <th>CreationDate</th>\n",
       "      <th>Score</th>\n",
       "      <th>Title</th>\n",
       "      <th>Body</th>\n",
       "    </tr>\n",
       "  </thead>\n",
       "  <tbody>\n",
       "    <tr>\n",
       "      <th>0</th>\n",
       "      <td>469</td>\n",
       "      <td>147.0</td>\n",
       "      <td>2008-08-02T15:11:16Z</td>\n",
       "      <td>21</td>\n",
       "      <td>How can I find the full path to a font from it...</td>\n",
       "      <td>&lt;p&gt;I am using the Photoshop's javascript API t...</td>\n",
       "    </tr>\n",
       "    <tr>\n",
       "      <th>1</th>\n",
       "      <td>502</td>\n",
       "      <td>147.0</td>\n",
       "      <td>2008-08-02T17:01:58Z</td>\n",
       "      <td>27</td>\n",
       "      <td>Get a preview JPEG of a PDF on Windows?</td>\n",
       "      <td>&lt;p&gt;I have a cross-platform (Python) applicatio...</td>\n",
       "    </tr>\n",
       "    <tr>\n",
       "      <th>2</th>\n",
       "      <td>535</td>\n",
       "      <td>154.0</td>\n",
       "      <td>2008-08-02T18:43:54Z</td>\n",
       "      <td>40</td>\n",
       "      <td>Continuous Integration System for a Python Cod...</td>\n",
       "      <td>&lt;p&gt;I'm starting work on a hobby project with a...</td>\n",
       "    </tr>\n",
       "    <tr>\n",
       "      <th>3</th>\n",
       "      <td>594</td>\n",
       "      <td>116.0</td>\n",
       "      <td>2008-08-03T01:15:08Z</td>\n",
       "      <td>25</td>\n",
       "      <td>cx_Oracle: How do I iterate over a result set?</td>\n",
       "      <td>&lt;p&gt;There are several ways to iterate over a re...</td>\n",
       "    </tr>\n",
       "    <tr>\n",
       "      <th>4</th>\n",
       "      <td>683</td>\n",
       "      <td>199.0</td>\n",
       "      <td>2008-08-03T13:19:16Z</td>\n",
       "      <td>28</td>\n",
       "      <td>Using 'in' to match an attribute of Python obj...</td>\n",
       "      <td>&lt;p&gt;I don't remember whether I was dreaming or ...</td>\n",
       "    </tr>\n",
       "  </tbody>\n",
       "</table>\n",
       "</div>"
      ],
      "text/plain": [
       "    Id  OwnerUserId          CreationDate  Score  \\\n",
       "0  469        147.0  2008-08-02T15:11:16Z     21   \n",
       "1  502        147.0  2008-08-02T17:01:58Z     27   \n",
       "2  535        154.0  2008-08-02T18:43:54Z     40   \n",
       "3  594        116.0  2008-08-03T01:15:08Z     25   \n",
       "4  683        199.0  2008-08-03T13:19:16Z     28   \n",
       "\n",
       "                                               Title  \\\n",
       "0  How can I find the full path to a font from it...   \n",
       "1            Get a preview JPEG of a PDF on Windows?   \n",
       "2  Continuous Integration System for a Python Cod...   \n",
       "3     cx_Oracle: How do I iterate over a result set?   \n",
       "4  Using 'in' to match an attribute of Python obj...   \n",
       "\n",
       "                                                Body  \n",
       "0  <p>I am using the Photoshop's javascript API t...  \n",
       "1  <p>I have a cross-platform (Python) applicatio...  \n",
       "2  <p>I'm starting work on a hobby project with a...  \n",
       "3  <p>There are several ways to iterate over a re...  \n",
       "4  <p>I don't remember whether I was dreaming or ...  "
      ]
     },
     "execution_count": 3,
     "metadata": {},
     "output_type": "execute_result"
    }
   ],
   "source": [
    "questions.head()"
   ]
  },
  {
   "cell_type": "code",
   "execution_count": 4,
   "metadata": {},
   "outputs": [
    {
     "data": {
      "text/html": [
       "<div>\n",
       "<style scoped>\n",
       "    .dataframe tbody tr th:only-of-type {\n",
       "        vertical-align: middle;\n",
       "    }\n",
       "\n",
       "    .dataframe tbody tr th {\n",
       "        vertical-align: top;\n",
       "    }\n",
       "\n",
       "    .dataframe thead th {\n",
       "        text-align: right;\n",
       "    }\n",
       "</style>\n",
       "<table border=\"1\" class=\"dataframe\">\n",
       "  <thead>\n",
       "    <tr style=\"text-align: right;\">\n",
       "      <th></th>\n",
       "      <th>Id</th>\n",
       "      <th>Tag</th>\n",
       "    </tr>\n",
       "  </thead>\n",
       "  <tbody>\n",
       "    <tr>\n",
       "      <th>0</th>\n",
       "      <td>469</td>\n",
       "      <td>python</td>\n",
       "    </tr>\n",
       "    <tr>\n",
       "      <th>1</th>\n",
       "      <td>469</td>\n",
       "      <td>osx</td>\n",
       "    </tr>\n",
       "    <tr>\n",
       "      <th>2</th>\n",
       "      <td>469</td>\n",
       "      <td>fonts</td>\n",
       "    </tr>\n",
       "    <tr>\n",
       "      <th>3</th>\n",
       "      <td>469</td>\n",
       "      <td>photoshop</td>\n",
       "    </tr>\n",
       "    <tr>\n",
       "      <th>4</th>\n",
       "      <td>502</td>\n",
       "      <td>python</td>\n",
       "    </tr>\n",
       "  </tbody>\n",
       "</table>\n",
       "</div>"
      ],
      "text/plain": [
       "    Id        Tag\n",
       "0  469     python\n",
       "1  469        osx\n",
       "2  469      fonts\n",
       "3  469  photoshop\n",
       "4  502     python"
      ]
     },
     "execution_count": 4,
     "metadata": {},
     "output_type": "execute_result"
    }
   ],
   "source": [
    "tags.head()"
   ]
  },
  {
   "cell_type": "code",
   "execution_count": 5,
   "metadata": {},
   "outputs": [
    {
     "data": {
      "text/html": [
       "<div>\n",
       "<style scoped>\n",
       "    .dataframe tbody tr th:only-of-type {\n",
       "        vertical-align: middle;\n",
       "    }\n",
       "\n",
       "    .dataframe tbody tr th {\n",
       "        vertical-align: top;\n",
       "    }\n",
       "\n",
       "    .dataframe thead th {\n",
       "        text-align: right;\n",
       "    }\n",
       "</style>\n",
       "<table border=\"1\" class=\"dataframe\">\n",
       "  <thead>\n",
       "    <tr style=\"text-align: right;\">\n",
       "      <th></th>\n",
       "      <th>Id</th>\n",
       "      <th>Title</th>\n",
       "      <th>Body</th>\n",
       "    </tr>\n",
       "  </thead>\n",
       "  <tbody>\n",
       "    <tr>\n",
       "      <th>0</th>\n",
       "      <td>469</td>\n",
       "      <td>How can I find the full path to a font from it...</td>\n",
       "      <td>&lt;p&gt;I am using the Photoshop's javascript API t...</td>\n",
       "    </tr>\n",
       "    <tr>\n",
       "      <th>1</th>\n",
       "      <td>502</td>\n",
       "      <td>Get a preview JPEG of a PDF on Windows?</td>\n",
       "      <td>&lt;p&gt;I have a cross-platform (Python) applicatio...</td>\n",
       "    </tr>\n",
       "    <tr>\n",
       "      <th>2</th>\n",
       "      <td>535</td>\n",
       "      <td>Continuous Integration System for a Python Cod...</td>\n",
       "      <td>&lt;p&gt;I'm starting work on a hobby project with a...</td>\n",
       "    </tr>\n",
       "    <tr>\n",
       "      <th>3</th>\n",
       "      <td>594</td>\n",
       "      <td>cx_Oracle: How do I iterate over a result set?</td>\n",
       "      <td>&lt;p&gt;There are several ways to iterate over a re...</td>\n",
       "    </tr>\n",
       "    <tr>\n",
       "      <th>4</th>\n",
       "      <td>683</td>\n",
       "      <td>Using 'in' to match an attribute of Python obj...</td>\n",
       "      <td>&lt;p&gt;I don't remember whether I was dreaming or ...</td>\n",
       "    </tr>\n",
       "    <tr>\n",
       "      <th>...</th>\n",
       "      <td>...</td>\n",
       "      <td>...</td>\n",
       "      <td>...</td>\n",
       "    </tr>\n",
       "    <tr>\n",
       "      <th>607277</th>\n",
       "      <td>40143190</td>\n",
       "      <td>How to execute multiline python code from a ba...</td>\n",
       "      <td>&lt;p&gt;I need to extend a shell script (bash). As ...</td>\n",
       "    </tr>\n",
       "    <tr>\n",
       "      <th>607278</th>\n",
       "      <td>40143228</td>\n",
       "      <td>How to get google reCaptcha image source using...</td>\n",
       "      <td>&lt;p&gt;I understood that reCaptcha loads a new fra...</td>\n",
       "    </tr>\n",
       "    <tr>\n",
       "      <th>607279</th>\n",
       "      <td>40143267</td>\n",
       "      <td>Updating an ManyToMany field with Django rest</td>\n",
       "      <td>&lt;p&gt;I'm trying to set up this API so I can use ...</td>\n",
       "    </tr>\n",
       "    <tr>\n",
       "      <th>607280</th>\n",
       "      <td>40143338</td>\n",
       "      <td>Most possible pairs</td>\n",
       "      <td>&lt;p&gt;Given a list of values, and information on ...</td>\n",
       "    </tr>\n",
       "    <tr>\n",
       "      <th>607281</th>\n",
       "      <td>40143365</td>\n",
       "      <td>Theano operations returning odd results</td>\n",
       "      <td>&lt;p&gt;So I'm trying to learn how to use Theano an...</td>\n",
       "    </tr>\n",
       "  </tbody>\n",
       "</table>\n",
       "<p>607282 rows × 3 columns</p>\n",
       "</div>"
      ],
      "text/plain": [
       "              Id                                              Title  \\\n",
       "0            469  How can I find the full path to a font from it...   \n",
       "1            502            Get a preview JPEG of a PDF on Windows?   \n",
       "2            535  Continuous Integration System for a Python Cod...   \n",
       "3            594     cx_Oracle: How do I iterate over a result set?   \n",
       "4            683  Using 'in' to match an attribute of Python obj...   \n",
       "...          ...                                                ...   \n",
       "607277  40143190  How to execute multiline python code from a ba...   \n",
       "607278  40143228  How to get google reCaptcha image source using...   \n",
       "607279  40143267      Updating an ManyToMany field with Django rest   \n",
       "607280  40143338                                Most possible pairs   \n",
       "607281  40143365            Theano operations returning odd results   \n",
       "\n",
       "                                                     Body  \n",
       "0       <p>I am using the Photoshop's javascript API t...  \n",
       "1       <p>I have a cross-platform (Python) applicatio...  \n",
       "2       <p>I'm starting work on a hobby project with a...  \n",
       "3       <p>There are several ways to iterate over a re...  \n",
       "4       <p>I don't remember whether I was dreaming or ...  \n",
       "...                                                   ...  \n",
       "607277  <p>I need to extend a shell script (bash). As ...  \n",
       "607278  <p>I understood that reCaptcha loads a new fra...  \n",
       "607279  <p>I'm trying to set up this API so I can use ...  \n",
       "607280  <p>Given a list of values, and information on ...  \n",
       "607281  <p>So I'm trying to learn how to use Theano an...  \n",
       "\n",
       "[607282 rows x 3 columns]"
      ]
     },
     "execution_count": 5,
     "metadata": {},
     "output_type": "execute_result"
    }
   ],
   "source": [
    "# Remove irrelevant columns 'Id', 'OwnerUserId', 'CreationDate', 'Score'\n",
    "questions = questions.drop(['OwnerUserId', 'CreationDate', 'Score'], axis=1)\n",
    "questions"
   ]
  },
  {
   "cell_type": "code",
   "execution_count": 6,
   "metadata": {},
   "outputs": [
    {
     "name": "stdout",
     "output_type": "stream",
     "text": [
      "Questions NaN count: Id       0\n",
      "Title    0\n",
      "Body     0\n",
      "dtype: int64\n",
      "Tags NaN count: Id       0\n",
      "Tag    443\n",
      "dtype: int64\n",
      "Tags NaN count after dropping: Id     0\n",
      "Tag    0\n",
      "dtype: int64\n"
     ]
    }
   ],
   "source": [
    "# Check for NaN values in questions and tags dataframes\n",
    "print(\"Questions NaN count:\", questions.isna().sum())\n",
    "print(\"Tags NaN count:\", tags.isna().sum())\n",
    "\n",
    "# Remove rows containing NaN values in tags dataframe\n",
    "tags = tags.dropna()\n",
    "\n",
    "# Check again for NaN values in tags dataframe to confirm removal\n",
    "print(\"Tags NaN count after dropping:\", tags.isna().sum())"
   ]
  },
  {
   "cell_type": "code",
   "execution_count": 7,
   "metadata": {},
   "outputs": [
    {
     "name": "stdout",
     "output_type": "stream",
     "text": [
      "<class 'pandas.core.frame.DataFrame'>\n",
      "RangeIndex: 6073 entries, 0 to 6072\n",
      "Data columns (total 4 columns):\n",
      " #   Column  Non-Null Count  Dtype \n",
      "---  ------  --------------  ----- \n",
      " 0   Title   6073 non-null   object\n",
      " 1   Body    6073 non-null   object\n",
      " 2   Id      6073 non-null   int64 \n",
      " 3   Tag     6073 non-null   object\n",
      "dtypes: int64(1), object(3)\n",
      "memory usage: 189.9+ KB\n"
     ]
    }
   ],
   "source": [
    "# Merge the two tables on the 'Id' column\n",
    "merged_df = questions.merge(tags, on='Id')\n",
    "\n",
    "# Combine all tags for each question into a list\n",
    "merged_df = merged_df.groupby(['Title', 'Body', 'Id'])['Tag'].apply(list).reset_index()\n",
    "merged_df['Tag'] = merged_df['Tag'].apply(lambda x: list(set(x)))\n",
    "\n",
    "# Select a random sample of the data and print information about the resulting dataframe\n",
    "merged_df = merged_df.sample(frac=0.01, random_state=42).reset_index(drop=True)\n",
    "merged_df.info()\n"
   ]
  },
  {
   "cell_type": "code",
   "execution_count": 1,
   "metadata": {},
   "outputs": [],
   "source": [
    "# clean text date in Title and Body column\n",
    "\n",
    "stop_words = set(stopwords.words('english'))\n",
    "\n",
    "def clean_text(sample): \n",
    "    \"\"\"remove html tags, extra blankspace, punctuations(e.g. the hypen in 'cross-platfor' \n",
    "    and the dot before .net will not be removed, since these punctuations also appear in tags), \n",
    "    stop words and lowering cases\"\"\"\n",
    "    sample = BeautifulSoup(sample, \"lxml\").text # remove HTML tags\n",
    "    sample = re.sub(r\"\\s+\", \" \", sample) # remove extra spaces\n",
    "    tokens = word_tokenize(sample)\n",
    "    cleaned = {token.lower() for token in tokens\n",
    "               if token not in string.punctuation and token not in stop_words}  # use set comprehension\n",
    "    return \" \".join(cleaned)\n",
    "\n",
    "merged_df[\"Title\"] = merged_df[\"Title\"].apply(clean_text)\n",
    "merged_df[\"Body\"] = merged_df[\"Body\"].apply(clean_text)"
   ]
  },
  {
   "cell_type": "code",
   "execution_count": 9,
   "metadata": {},
   "outputs": [
    {
     "data": {
      "text/html": [
       "<div>\n",
       "<style scoped>\n",
       "    .dataframe tbody tr th:only-of-type {\n",
       "        vertical-align: middle;\n",
       "    }\n",
       "\n",
       "    .dataframe tbody tr th {\n",
       "        vertical-align: top;\n",
       "    }\n",
       "\n",
       "    .dataframe thead th {\n",
       "        text-align: right;\n",
       "    }\n",
       "</style>\n",
       "<table border=\"1\" class=\"dataframe\">\n",
       "  <thead>\n",
       "    <tr style=\"text-align: right;\">\n",
       "      <th></th>\n",
       "      <th>Tag</th>\n",
       "      <th>Text</th>\n",
       "    </tr>\n",
       "  </thead>\n",
       "  <tbody>\n",
       "    <tr>\n",
       "      <th>0</th>\n",
       "      <td>[python, django, azure, django-storage, azure-...</td>\n",
       "      <td>via custom attribute url setting django azure ...</td>\n",
       "    </tr>\n",
       "    <tr>\n",
       "      <th>1</th>\n",
       "      <td>[sql, django, mysql, python]</td>\n",
       "      <td>`` list values django clause require does two ...</td>\n",
       "    </tr>\n",
       "    <tr>\n",
       "      <th>2</th>\n",
       "      <td>[django-views, django, django-models, python]</td>\n",
       "      <td>save/delete vs django functions view model ove...</td>\n",
       "    </tr>\n",
       "    <tr>\n",
       "      <th>3</th>\n",
       "      <td>[matplotlib, python]</td>\n",
       "      <td>pixels why producing .imshow i images put exam...</td>\n",
       "    </tr>\n",
       "    <tr>\n",
       "      <th>4</th>\n",
       "      <td>[sqlite, flask, python]</td>\n",
       "      <td>tests dates sqlite running using involving fla...</td>\n",
       "    </tr>\n",
       "  </tbody>\n",
       "</table>\n",
       "</div>"
      ],
      "text/plain": [
       "                                                 Tag  \\\n",
       "0  [python, django, azure, django-storage, azure-...   \n",
       "1                       [sql, django, mysql, python]   \n",
       "2      [django-views, django, django-models, python]   \n",
       "3                               [matplotlib, python]   \n",
       "4                            [sqlite, flask, python]   \n",
       "\n",
       "                                                Text  \n",
       "0  via custom attribute url setting django azure ...  \n",
       "1  `` list values django clause require does two ...  \n",
       "2  save/delete vs django functions view model ove...  \n",
       "3  pixels why producing .imshow i images put exam...  \n",
       "4  tests dates sqlite running using involving fla...  "
      ]
     },
     "execution_count": 9,
     "metadata": {},
     "output_type": "execute_result"
    }
   ],
   "source": [
    "# Create a new column called 'Text', which is the concatenation of 'Title' and 'Body'\n",
    "merged_df['Text'] = merged_df['Title'] + ' ' + merged_df['Body']\n",
    "\n",
    "# Drop 'Title', 'Body', and 'Id' columns\n",
    "merged_df.drop(['Title', 'Body', 'Id'], axis=1, inplace=True)\n",
    "merged_df.head()"
   ]
  },
  {
   "cell_type": "code",
   "execution_count": 10,
   "metadata": {},
   "outputs": [
    {
     "data": {
      "image/png": "[encoded data removed]",
      "text/plain": [
       "<Figure size 800x600 with 1 Axes>"
      ]
     },
     "metadata": {},
     "output_type": "display_data"
    }
   ],
   "source": [
    "tags = merged_df[\"Tag\"].tolist()\n",
    "freq = [len(l) for l in tags]\n",
    "count_dict = dict(Counter(freq))\n",
    "\n",
    "sorted_counts = {k: v for k, v in sorted(count_dict.items(), key=lambda item: item[0])}\n",
    "\n",
    "plt.figure(figsize=(8, 6))\n",
    "sns.set_style(\"whitegrid\")\n",
    "ax = sns.barplot(x=list(sorted_counts.keys()), y=list(sorted_counts.values()), color='steelblue')\n",
    "ax.set_title(\"Distribution of Number of Tags in Questions\", fontsize=16)\n",
    "ax.set_xlabel(\"Number of Tags\", fontsize=14)\n",
    "ax.set_ylabel(\"Number of Questions\", fontsize=14)\n",
    "\n",
    "plt.show()"
   ]
  },
  {
   "cell_type": "code",
   "execution_count": 11,
   "metadata": {},
   "outputs": [
    {
     "data": {
      "image/png": "[encoded data removed]",
      "text/plain": [
       "<Figure size 1000x600 with 1 Axes>"
      ]
     },
     "metadata": {},
     "output_type": "display_data"
    }
   ],
   "source": [
    "flatlist = sum(tags, [])\n",
    "top20 = dict(Counter(flatlist).most_common(20))\n",
    "\n",
    "plt.figure(figsize=(10, 6))\n",
    "sns.set_style(\"whitegrid\")\n",
    "ax = sns.barplot(x=list(top20.keys()), y=list(top20.values()), color='steelblue')\n",
    "ax.set_title(\"Top 20 Tags in Questions\", fontsize=16)\n",
    "ax.set_xlabel(\"Tags\", fontsize=14)\n",
    "ax.set_ylabel(\"Counts\", fontsize=14)\n",
    "ax.set_xticklabels(list(top20.keys()), rotation=90)\n",
    "\n",
    "plt.show()"
   ]
  },
  {
   "attachments": {},
   "cell_type": "markdown",
   "metadata": {},
   "source": [
    "## Training and Evaluation"
   ]
  },
  {
   "cell_type": "code",
   "execution_count": 14,
   "metadata": {},
   "outputs": [],
   "source": [
    "# Split dataframe to train and test datasets\n",
    "\n",
    "X = merged_df[\"Text\"]\n",
    "y = merged_df[\"Tag\"]\n",
    "\n",
    "tfidf = TfidfVectorizer(analyzer='word', max_features=10000, ngram_range=(1,3), stop_words='english')\n",
    "X = tfidf.fit_transform(X)\n",
    "\n",
    "mlb = MultiLabelBinarizer() \n",
    "y = mlb.fit_transform(y)\n",
    "\n",
    "X_train, X_test, y_train, y_test = train_test_split(X, y, test_size=0.2, random_state=42) # , stratify=y\n",
    "\n",
    "label_names = mlb.classes_\n",
    "\n",
    "# Define the classifiers\n",
    "classifiers = [\n",
    "    OneVsRestClassifier(MultinomialNB(), n_jobs=-1),\n",
    "    OneVsRestClassifier(LogisticRegression(solver='lbfgs'), n_jobs=-1),\n",
    "    OneVsRestClassifier(LinearSVC(), n_jobs=-1)\n",
    "]\n",
    "\n",
    "# Train and evaluate the classifiers\n",
    "results = {}\n",
    "for i, clf in enumerate(classifiers):\n",
    "    clf.fit(X_train, y_train)\n",
    "    y_pred = clf.predict(X_test)\n",
    "    results[f\"classifier_{i+1}\"] = {\n",
    "        \"accuracy\": accuracy_score(y_test, y_pred),\n",
    "        \"macro_f1\": f1_score(y_test, y_pred, average='macro', zero_division=1),\n",
    "        \"micro_f1\": f1_score(y_test, y_pred, average='micro', zero_division=1),\n",
    "        \"hamming_loss\": hamming_loss(y_test, y_pred)\n",
    "    }"
   ]
  },
  {
   "cell_type": "code",
   "execution_count": 15,
   "metadata": {},
   "outputs": [
    {
     "name": "stdout",
     "output_type": "stream",
     "text": [
      "classifier_1\n",
      "Macro F1 score: 0.6483\n",
      "Micro F1 score: 0.6200\n",
      "Hamming loss: 0.0007\n",
      "classifier_2\n",
      "Macro F1 score: 0.6286\n",
      "Micro F1 score: 0.5382\n",
      "Hamming loss: 0.0007\n",
      "classifier_3\n",
      "Macro F1 score: 0.6434\n",
      "Micro F1 score: 0.6094\n",
      "Hamming loss: 0.0007\n"
     ]
    }
   ],
   "source": [
    "# Print the results\n",
    "for clf_name, metrics in results.items():\n",
    "    print(clf_name)\n",
    "    print(f\"Macro F1 score: {metrics['macro_f1']:.4f}\")\n",
    "    print(f\"Micro F1 score: {metrics['micro_f1']:.4f}\")\n",
    "    print(f\"Hamming loss: {metrics['hamming_loss']:.4f}\")"
   ]
  }
 ],
 "metadata": {
  "kernelspec": {
   "display_name": "data_science_from_scratch",
   "language": "python",
   "name": "python3"
  },
  "language_info": {
   "codemirror_mode": {
    "name": "ipython",
    "version": 3
   },
   "file_extension": ".py",
   "mimetype": "text/x-python",
   "name": "python",
   "nbconvert_exporter": "python",
   "pygments_lexer": "ipython3",
   "version": "3.9.16"
  },
  "orig_nbformat": 4,
  "vscode": {
   "interpreter": {
    "hash": "56dc72bbb0170827216286a7902531ed12cc237d72755fad22e635dd814c323c"
   }
  }
 },
 "nbformat": 4,
 "nbformat_minor": 2
}
